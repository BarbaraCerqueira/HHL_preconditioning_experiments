{
 "cells": [
  {
   "cell_type": "markdown",
   "id": "79db2c61",
   "metadata": {},
   "source": [
    "# Experimentation with HHL quantum circuits and preconditioners\n",
    "In this notebook, we are conducting experiments using the Harrow–Hassidim–Lloyd (HHL) quantum algorithm, comparing the algorithm's execution time across different sizes of linear systems, both with and without the use of preconditioners."
   ]
  },
  {
   "cell_type": "code",
   "execution_count": 1,
   "id": "424af03c-5e9c-45bb-8826-fb598d0a31f5",
   "metadata": {
    "tags": []
   },
   "outputs": [],
   "source": [
    "# Uncomment To install HHL functional lib \n",
    "# pip install git+https://github.com/anedumla/quantum_linear_solvers\n",
    "\n",
    "from linear_solvers import NumPyLinearSolver, HHL\n",
    "from linear_solvers.matrices.tridiagonal_toeplitz import TridiagonalToeplitz\n",
    "from qiskit.quantum_info import Statevector\n",
    "from scipy.sparse import diags\n",
    "from scipy.linalg import toeplitz, circulant\n",
    "import numpy as np\n",
    "import time\n",
    "\n",
    "from qiskit.utils import algorithm_globals\n",
    "algorithm_globals.massive=True"
   ]
  },
  {
   "cell_type": "markdown",
   "id": "da38b744",
   "metadata": {},
   "source": [
    "## Utility Functions \n",
    "Utility functions for solving a linear system with and without HHL, calculating the condition number of a matrix, extending matrices to Hermitian form, and ensuring dimensions are powers of 2. It is crucial to note that the Qiskit HHL algorithm only supports Hermitian matrices and whose size that is a power of 2."
   ]
  },
  {
   "cell_type": "code",
   "execution_count": 2,
   "id": "2f4f1b82-de12-414f-935f-4e21e3c29f07",
   "metadata": {
    "tags": []
   },
   "outputs": [],
   "source": [
    "def generate_tridi(a, b, matrix_size, toeplitz=False):\n",
    "    if not isinstance(matrix_size, int) or np.log2(matrix_size) % 1 != 0:\n",
    "        raise ValueError(\"Matrix dimension must be an integer 2^n.\")\n",
    "\n",
    "    if toeplitz:\n",
    "        tridi_matrix = TridiagonalToeplitz(np.log2(matrix_size), a, b)\n",
    "    else:\n",
    "        tridi_matrix = diags([b, a, b], [-1, 0, 1], shape=(matrix_size, matrix_size)).toarray()\n",
    "\n",
    "    return tridi_matrix\n",
    "\n",
    "def solve_hhl(matrix, vector, tol=1e-2, verbose=False):\n",
    "    matrix = np.array(matrix, dtype=float)\n",
    "    vector = np.array(vector, dtype=float)\n",
    "    \n",
    "    matrix_old = matrix\n",
    "    matrix = matrix / np.linalg.norm(vector)\n",
    "    vector = vector / np.linalg.norm(vector)\n",
    "    n = matrix.shape[0]\n",
    "    \n",
    "    start_time_real = time.time()\n",
    "    start_time = time.process_time()\n",
    "    hhl = HHL(tol).solve(matrix, vector)\n",
    "    elapsed_cpu_time = time.process_time() - start_time\n",
    "    elapsed_real_time = time.time() - start_time_real\n",
    "\n",
    "    # Get solution vector from state vector\n",
    "    result_vector = Statevector(hhl.state).data.real\n",
    "    start_index = int(result_vector.shape[0]/2)\n",
    "    result_vector = result_vector[start_index : (start_index + n)]\n",
    "    result_vector = hhl.euclidean_norm * result_vector / np.linalg.norm(result_vector)\n",
    "\n",
    "    if verbose:\n",
    "        print(f\"Matrix: {matrix_old}\")\n",
    "        print(f\"HHL Solution Norm: {hhl.euclidean_norm}\")\n",
    "        print(f\"HHL Solution Vector: {result_vector}\")\n",
    "        print(f\"CPU Time: {elapsed_cpu_time} seconds\")\n",
    "\n",
    "    return result_vector, elapsed_cpu_time, elapsed_real_time\n",
    "\n",
    "def solve_classical(matrix, vector, verbose=False):\n",
    "    matrix = np.array(matrix, dtype=float)\n",
    "    vector = np.array(vector, dtype=float)\n",
    "\n",
    "    matrix = matrix / np.linalg.norm(vector)\n",
    "    vector = vector / np.linalg.norm(vector)\n",
    "\n",
    "    classical = NumPyLinearSolver().solve(matrix, vector)\n",
    "    result_vector = classical.state\n",
    "\n",
    "    if verbose:\n",
    "        print(f\"Classical Solution Norm: {classical.euclidean_norm}\")\n",
    "        print(f\"Classical Solution Vector: {result_vector}\")\n",
    "\n",
    "    return result_vector\n",
    "\n",
    "def error(classical, hhl):\n",
    "    return np.linalg.norm(classical - hhl)/ np.linalg.norm(classical)\n",
    "\n",
    "# Add zeros so that matrix is of size 2^n\n",
    "def extend_matrix_simple(matrix, vector):\n",
    "    n = matrix.shape[0]\n",
    "    \n",
    "    if np.log2(n) % 1 != 0:\n",
    "        extend_n = int(2**(np.floor(np.log2(n))+1))\n",
    "    else:\n",
    "        extend_n = n\n",
    "        \n",
    "    new_matrix = np.eye(extend_n)\n",
    "    new_matrix[:n,:n] = matrix\n",
    "\n",
    "    new_vector = np.append(vector, [0]*(extend_n - n))\n",
    "\n",
    "    return new_matrix, new_vector\n",
    "\n",
    "# Extend to an hermitian matrix\n",
    "def extend_matrix_hermitian(matrix, vector):\n",
    "    if not is_hermitian(matrix):\n",
    "        n = matrix.shape[0]\n",
    "        extend_n = 2*n\n",
    "\n",
    "        new_matrix = np.zeros([extend_n, extend_n])\n",
    "        new_matrix[:n,n:] = np.conj(matrix.T)\n",
    "        new_matrix[n:,:n] = matrix\n",
    "        \n",
    "        new_vector = np.append(np.conj(vector), vector)\n",
    "        return new_matrix, new_vector\n",
    "    else:\n",
    "        return matrix, vector\n",
    "\n",
    "# Verify if matrix is hermitian\n",
    "def is_hermitian(matrix):\n",
    "    return np.allclose(matrix, np.conj(matrix.T))\n",
    "\n",
    "# Modify matrix and vector so that they can be used on HHL (hermitian and of dimension 2^n)\n",
    "def set_system(matrix,vector):\n",
    "    matrix = np.array(matrix, dtype=float)\n",
    "    vector = np.array(vector, dtype=float)\n",
    "    n = matrix.shape[0]\n",
    "    \n",
    "    if np.log2(n) % 1 != 0: # Matrix is not of size 2^n\n",
    "        matrix, vector = extend_matrix_simple(matrix, vector)\n",
    "    if not is_hermitian(matrix): # Matrix is not hermitian\n",
    "        matrix, vector = extend_matrix_hermitian(matrix,vector)   \n",
    "    return matrix, vector\n",
    "\n",
    "def condition_number(matrix):\n",
    "    matrix = np.array(matrix, dtype=float)\n",
    "    eigenvalues = np.linalg.eigvals(matrix)\n",
    "    eigenvalues_abs = np.abs(eigenvalues)\n",
    "    eigen_max = np.max(eigenvalues_abs)\n",
    "    eigen_min = np.min(eigenvalues_abs)\n",
    "    return eigen_max/eigen_min\n",
    "\n",
    "# Solve linear system without preconditioner and print info (matrix/vector doesn't need to be extended previously)\n",
    "def solve_wp(matrix,vector, tol=1e-2):\n",
    "    matrix = np.array(matrix, dtype=float)\n",
    "    vector = np.array(vector, dtype=float)  \n",
    "    n = matrix.shape[0]\n",
    "    cond = condition_number(matrix)\n",
    "    \n",
    "    set_matrix1,set_vector1 = set_system(matrix,vector)\n",
    "    \n",
    "    # Non preconditioned system resolution\n",
    "    hhl_result1, cpu_time1, real_time1 = solve_hhl(set_matrix1,set_vector1,tol)\n",
    "    classical_result1 = solve_classical(set_matrix1,set_vector1)\n",
    "    hhl_result1, classical_result1 = hhl_result1[:n], classical_result1[:n]\n",
    "    result_error1 = error(classical_result1, hhl_result1)\n",
    "    \n",
    "    print(f\"\\nSolving system:\")\n",
    "    if set_matrix1.shape[0] > matrix.shape[0]:\n",
    "        print(f\"Warning: System had to be extended to N = {set_matrix1.shape[0]}. Input matrix is not hermitian and/or not of size 2^n. Condition number of extended matrix is actually {condition_number(set_matrix1)}\\n\")\n",
    "    print(f\"\\nCondition Number: {cond}\")\n",
    "    print(f\"HHL Result: {hhl_result1}\")\n",
    "    print(f\"Classical Result: {classical_result1}\")\n",
    "    print(f\"Error: {result_error1}\")\n",
    "    print(f\"CPU Time: {cpu_time1}\")\n",
    "    print(f\"Wall Time: {real_time1}\")\n",
    "\n",
    "# Solve linear system and print info\n",
    "def solve(matrix,vector,preconditioner,tol=1e-2):\n",
    "    matrix = np.array(matrix, dtype=float)\n",
    "    vector = np.array(vector, dtype=float)  \n",
    "    n = matrix.shape[0]\n",
    "    preconditioner = np.array(preconditioner, dtype=float)\n",
    "    cond_before = condition_number(matrix)\n",
    "    \n",
    "    pc_matrix = np.dot(np.linalg.inv(preconditioner), matrix)\n",
    "    pc_vector = np.dot(np.linalg.inv(preconditioner), vector)\n",
    "    cond_after = condition_number(pc_matrix)\n",
    "    \n",
    "    set_matrix1,set_vector1 = set_system(matrix,vector)\n",
    "    #print(f\"Matrix NPC: {set_matrix1} and vector NPC is {set_vector1}\")\n",
    "    set_matrix2,set_vector2 = set_system(pc_matrix,pc_vector)\n",
    "    #print(f\"Matrix PC: {set_matrix2} and vector PC is {set_vector2}\")\n",
    "\n",
    "    # Non preconditioned system resolution\n",
    "    hhl_result1, cpu_time1, real_time1 = solve_hhl(set_matrix1,set_vector1,tol)\n",
    "    classical_result1 = solve_classical(set_matrix1,set_vector1)\n",
    "    hhl_result1, classical_result1 = hhl_result1[:n], classical_result1[:n]\n",
    "    result_error1 = error(classical_result1, hhl_result1)\n",
    "    \n",
    "    print(f\"\\nNon preconditioned system:\")\n",
    "    if set_matrix1.shape[0] > matrix.shape[0]:\n",
    "        print(f\"Warning: System had to be extended to N = {set_matrix1.shape[0]}. Input matrix is not hermitian and/or not of size 2^n. Condition number of extended matrix is actually {condition_number(set_matrix1)}\")\n",
    "    print(f\"\\nCondition Number: {cond_before}\")\n",
    "    print(f\"HHL Result: {hhl_result1}\")\n",
    "    print(f\"Classical Result: {classical_result1}\")\n",
    "    print(f\"Error: {result_error1}\")\n",
    "    print(f\"CPU Time: {cpu_time1}\")\n",
    "    print(f\"Wall Time: {real_time1}\")\n",
    "    \n",
    "    # Preconditioned system resolution\n",
    "    hhl_result2, cpu_time2, real_time2 = solve_hhl(set_matrix2,set_vector2,tol)\n",
    "    classical_result2 = solve_classical(set_matrix2,set_vector2)\n",
    "    hhl_result2, classical_result2 = hhl_result2[:n], classical_result2[:n]\n",
    "    result_error2 = error(classical_result1, hhl_result2) # Result compared to classical result before preconditioning\n",
    "    \n",
    "    print(f\"\\nPreconditioned system:\")\n",
    "    if set_matrix2.shape[0] > matrix.shape[0]:\n",
    "        print(f\"Warning: System had to be extended to N = {set_matrix2.shape[0]}. Input matrix is not hermitian and/or not of size 2^n. Condition number of extended matrix is actually {condition_number(set_matrix2)}\")\n",
    "    print(f\"\\nCondition Number: {cond_after}\")\n",
    "    print(f\"HHL Result: {hhl_result2}\")\n",
    "    print(f\"Classical Result: {classical_result2}\")\n",
    "    print(f\"Error: {result_error2}\")\n",
    "    print(f\"CPU Time: {cpu_time2}\")\n",
    "    print(f\"Wall Time: {real_time2}\")\n",
    "    "
   ]
  },
  {
   "cell_type": "markdown",
   "id": "38954919-c7da-49d0-83c6-357396170b6b",
   "metadata": {},
   "source": [
    "## Chan's optimal circulant preconditioner for solving Toeplitz systems\n",
    "\n",
    "\n",
    "Utilizing Chang's circular preconditioner as mentioned in [this article](https://journals.aps.org/pra/abstract/10.1103/PhysRevA.98.062321), which is optimal for Toeplitz systems, we aim to reduce the execution time of the HHL algorithm through system conditioning. Thus, with the circular preconditioner denoted as C, we attempt to solve the following linear system:\n",
    "\n",
    "$$C^{-1}Ax = C^{-1}b$$"
   ]
  },
  {
   "cell_type": "code",
   "execution_count": 3,
   "id": "611cfe78-08d3-4c17-b2c8-bfd306396ec3",
   "metadata": {
    "tags": []
   },
   "outputs": [],
   "source": [
    "def circulant_preconditioner(toeplitz):\n",
    "    np.array(toeplitz, dtype=float)\n",
    "    col = toeplitz[:, 0]\n",
    "    row = toeplitz[0, :]\n",
    "    n = toeplitz.shape[0]\n",
    "    \n",
    "    col = np.append(col,0)\n",
    "    i = np.arange(n)\n",
    "    c = (i * col[n-i] + (n-i) * row[i]) / n\n",
    "    \n",
    "    circulant_matrix = circulant(c)\n",
    "    circulant_matrix = np.array(circulant_matrix, dtype=float)\n",
    "    return circulant_matrix"
   ]
  },
  {
   "cell_type": "markdown",
   "id": "3b053591-b711-4533-acb3-f6a6acec75d9",
   "metadata": {},
   "source": [
    "## Examples with Hermitian Matrix\n",
    "\n",
    "Here, the original matrix is hermitian. However, upon the application of the circulant preconditioner, the resulting preconditioned matrix becomes non-Hermitian. Consequently, the execution time is affected as the non-Hermitian system needs to be expanded to meet HHL requirements, and a larger N (system size) inherently leads to slower processing."
   ]
  },
  {
   "cell_type": "markdown",
   "id": "d9ae53f7",
   "metadata": {},
   "source": [
    "### 1st Example: 4x4"
   ]
  },
  {
   "cell_type": "code",
   "execution_count": 5,
   "id": "6ed80f50",
   "metadata": {
    "tags": []
   },
   "outputs": [
    {
     "name": "stdout",
     "output_type": "stream",
     "text": [
      "\n",
      "Non preconditioned system:\n",
      "\n",
      "Condition Number: 15.532997913802955\n",
      "HHL Result: [0.19376465 0.00601178 0.00601178 0.19376465]\n",
      "Classical Result: [0.2 0.  0.  0.2]\n",
      "Error: 0.04330736616628421\n",
      "CPU Time: 3.71875\n",
      "Wall Time: 4.141200542449951\n",
      "\n",
      "Preconditioned system:\n",
      "Warning: System had to be extended to N = 8. Input matrix is not hermitian and/or not of size 2^n. Condition number of extended matrix is actually 4.2655644370746435\n",
      "\n",
      "Condition Number: 3.999999999999999\n",
      "HHL Result: [ 0.20124471 -0.00138801 -0.00138801  0.20124471]\n",
      "Classical Result: [ 2.00000000e-01 -8.78540656e-17  8.60378948e-17  2.00000000e-01]\n",
      "Error: 0.009321826162858309\n",
      "CPU Time: 9.53125\n",
      "Wall Time: 9.880000829696655\n"
     ]
    }
   ],
   "source": [
    "col = np.array([1, 2, 3, 4])\n",
    "rows = np.array([1, 2, 3, 4])\n",
    "n = 4\n",
    "toeplitz1 = toeplitz(col, rows)\n",
    "\n",
    "vector1 = [1]*4\n",
    "circulant_matrix1 = circulant_preconditioner(toeplitz1)\n",
    "\n",
    "solve(matrix=toeplitz1, vector=vector1, preconditioner=circulant_matrix1, tol=1e-2)"
   ]
  },
  {
   "cell_type": "markdown",
   "id": "e0cdd6ab",
   "metadata": {},
   "source": [
    "### 2nd Example - 5x5 "
   ]
  },
  {
   "cell_type": "code",
   "execution_count": 9,
   "id": "ef8f1fcf",
   "metadata": {},
   "outputs": [
    {
     "name": "stdout",
     "output_type": "stream",
     "text": [
      "\n",
      "Non preconditioned system:\n",
      "Warning: System had to be extended to N = 8. Input matrix is not hermitian and/or not of size 2^n. Condition number of extended matrix is actually 23.71320010708135\n",
      "\n",
      "Condition Number: 23.71320010708135\n",
      "HHL Result: [ 0.16380338 -0.00029009  0.00109691 -0.00029009  0.16380338]\n",
      "Classical Result: [ 1.66666667e-01  2.06877846e-17 -6.20633538e-17  0.00000000e+00\n",
      "  1.66666667e-01]\n",
      "Error: 0.017883789341986676\n",
      "CPU Time: 20.53125\n",
      "Wall Time: 22.00065517425537\n",
      "\n",
      "Preconditioned system:\n",
      "Warning: System had to be extended to N = 16. Input matrix is not hermitian and/or not of size 2^n. Condition number of extended matrix is actually 5.828427124746195\n",
      "\n",
      "Condition Number: 5.000000000000005\n",
      "HHL Result: [ 0.15978379 -0.00053029  0.00710488 -0.00053029  0.15978379]\n",
      "Classical Result: [ 1.66666667e-01 -9.21287682e-18  9.04265670e-17  1.00660260e-17\n",
      "  1.66666667e-01]\n",
      "Error: 0.05122709504271788\n",
      "CPU Time: 141.90625\n",
      "Wall Time: 147.92321515083313\n"
     ]
    }
   ],
   "source": [
    "col = np.array([1, 2, 3, 4, 5])\n",
    "rows = np.array([1, 2, 3, 4, 5])\n",
    "n = 5\n",
    "toeplitz1 = toeplitz(col, rows)\n",
    "\n",
    "vector1 = [1]*n\n",
    "circulant_matrix1 = circulant_preconditioner(toeplitz1)\n",
    "\n",
    "solve(matrix=toeplitz1, vector=vector1, preconditioner=circulant_matrix1, tol=1e-2)"
   ]
  },
  {
   "cell_type": "markdown",
   "id": "21ff9953",
   "metadata": {},
   "source": [
    "## Examples with Non-Hermitian Matrix\n",
    "\n",
    "Here, the original matrix is non-Hermitian, resulting in a preconditioned matrix that is also non-Hermitian. Consequently, enhancements in execution time are more noticeable. Nevertheless, the impact is less apparent in smaller systems, with significant improvements observed primarily for systems of sizes around or exceeding 16x16."
   ]
  },
  {
   "cell_type": "markdown",
   "id": "25ff8e5c",
   "metadata": {},
   "source": [
    "### 1st Example - 4x4\n",
    "System was expanded to 8x8. A very slight improvement in CPU time is noticeable."
   ]
  },
  {
   "cell_type": "code",
   "execution_count": 10,
   "id": "1041df05-b91c-4349-a884-fcf3601cfc86",
   "metadata": {
    "tags": []
   },
   "outputs": [
    {
     "name": "stdout",
     "output_type": "stream",
     "text": [
      "[[1 3 3 5]\n",
      " [2 1 3 3]\n",
      " [3 2 1 3]\n",
      " [4 3 2 1]] 7.143198287855598\n"
     ]
    }
   ],
   "source": [
    "col = [1,2,3,4]\n",
    "row = [1,3,3,5]\n",
    "toeplitz2 = toeplitz(col,row)\n",
    "cond = condition_number(toeplitz2)\n",
    "\n",
    "print(toeplitz2,cond)"
   ]
  },
  {
   "cell_type": "code",
   "execution_count": 11,
   "id": "e027ee1f-e939-40a2-9cc1-fc2ba3733d44",
   "metadata": {
    "tags": []
   },
   "outputs": [
    {
     "name": "stdout",
     "output_type": "stream",
     "text": [
      "[[1.   2.75 3.   3.25]\n",
      " [3.25 1.   2.75 3.  ]\n",
      " [3.   3.25 1.   2.75]\n",
      " [2.75 3.   3.25 1.  ]]\n"
     ]
    }
   ],
   "source": [
    "circulant_matrix2 = circulant_preconditioner(toeplitz2)\n",
    "\n",
    "print(circulant_matrix2)"
   ]
  },
  {
   "cell_type": "code",
   "execution_count": 12,
   "id": "1b67591f-8f03-44ce-b1e5-9017b7439611",
   "metadata": {
    "tags": []
   },
   "outputs": [
    {
     "name": "stdout",
     "output_type": "stream",
     "text": [
      "\n",
      "Non preconditioned system:\n",
      "Warning: System had to be extended to N = 8. Input matrix is not hermitian and/or not of size 2^n. Condition number of extended matrix is actually 8.002774624034817\n",
      "\n",
      "Condition Number: 7.143198287855598\n",
      "HHL Result: [ 0.19507743 -0.03126737  0.08893163  0.12750297]\n",
      "Classical Result: [ 0.1971831  -0.02816901  0.08450704  0.12676056]\n",
      "Error: 0.02330768423876229\n",
      "CPU Time: 9.234375\n",
      "Wall Time: 9.577510356903076\n",
      "\n",
      "Preconditioned system:\n",
      "Warning: System had to be extended to N = 8. Input matrix is not hermitian and/or not of size 2^n. Condition number of extended matrix is actually 3.329444399741983\n",
      "\n",
      "Condition Number: 2.3747540689691475\n",
      "HHL Result: [ 0.19802748 -0.02654185  0.08154386  0.12743242]\n",
      "Classical Result: [ 0.1971831  -0.02816901  0.08450704  0.12676056]\n",
      "Error: 0.01415092101299045\n",
      "CPU Time: 9.15625\n",
      "Wall Time: 9.64200496673584\n"
     ]
    }
   ],
   "source": [
    "vector2 = [1]*4\n",
    "solve(matrix=toeplitz2, vector=vector2, preconditioner=circulant_matrix2, tol=1e-8)"
   ]
  },
  {
   "cell_type": "markdown",
   "id": "4a19bb0c",
   "metadata": {},
   "source": [
    "### 2nd Example - 5x5\n",
    "System was expanded to 16x16. It is possible to notice a very small improvement."
   ]
  },
  {
   "cell_type": "code",
   "execution_count": 12,
   "id": "c290a1f7",
   "metadata": {},
   "outputs": [
    {
     "name": "stdout",
     "output_type": "stream",
     "text": [
      "\n",
      "Non preconditioned system:\n",
      "Warning: System had to be extended to N = 16. Input matrix is not hermitian and/or not of size 2^n. Condition number of extended matrix is actually 14.905499965852478\n",
      "\n",
      "Condition Number: 10.890012974267385\n",
      "HHL Result: [ 0.16851603 -0.01831186 -0.05815727  0.03844     0.14075436]\n",
      "Classical Result: [ 0.18215613 -0.0260223  -0.07434944  0.04089219  0.15241636]\n",
      "Error: 0.10052881651572633\n",
      "CPU Time: 89.33305121599997\n",
      "Wall Time: 84.92791867256165\n",
      "\n",
      "Preconditioned system:\n",
      "Warning: System had to be extended to N = 16. Input matrix is not hermitian and/or not of size 2^n. Condition number of extended matrix is actually 5.95899979041835\n",
      "\n",
      "Condition Number: 3.1496652910584424\n",
      "HHL Result: [ 0.18150996 -0.02691934 -0.0750809   0.04009067  0.15184238]\n",
      "Classical Result: [ 0.18215613 -0.0260223  -0.07434944  0.04089219  0.15241636]\n",
      "Error: 0.006515442038095342\n",
      "CPU Time: 87.40156941200001\n",
      "Wall Time: 83.3616726398468\n"
     ]
    }
   ],
   "source": [
    "# Example - not hermitian\n",
    "col = [1,2,3,4,6]\n",
    "row = [1,3,3,5,6]\n",
    "toeplitz3 = toeplitz(col,row)\n",
    "\n",
    "circulant_matrix3 = circulant_preconditioner(toeplitz3)\n",
    "\n",
    "vector3 = [1]*5\n",
    "solve(matrix=toeplitz3, vector=vector3, preconditioner=circulant_matrix3, tol=1e-2)"
   ]
  },
  {
   "cell_type": "markdown",
   "id": "84ffdd12",
   "metadata": {},
   "source": [
    "### 3rd Example - 3x3\n",
    "The system was expanded to 8x8, and the matrix exhibits a slightly more sparse structure, featuring two null diagonals. It is noticeable that this characteristic has nullified the modest improvement observed earlier."
   ]
  },
  {
   "cell_type": "code",
   "execution_count": 5,
   "id": "33151ad9",
   "metadata": {},
   "outputs": [
    {
     "name": "stdout",
     "output_type": "stream",
     "text": [
      "\n",
      "Non preconditioned system:\n",
      "Warning: System had to be extended to N = 8. Input matrix is not hermitian and/or not of size 2^n. Condition number of extended matrix is actually 5.125043542621024\n",
      "\n",
      "Condition Number: 4.464101615137749\n",
      "HHL Result: [-0.09027091  0.36489337  0.27349181]\n",
      "Classical Result: [-0.09090909  0.36363636  0.27272727]\n",
      "Error: 0.003459638877289046\n",
      "CPU Time: 6.921875\n",
      "Wall Time: 9.20133090019226\n",
      "\n",
      "Preconditioned system:\n",
      "Warning: System had to be extended to N = 8. Input matrix is not hermitian and/or not of size 2^n. Condition number of extended matrix is actually 4.175434190573082\n",
      "\n",
      "Condition Number: 1.0049605160974084\n",
      "HHL Result: [-0.0979961   0.35802018  0.27229722]\n",
      "Classical Result: [-0.09090909  0.36363636  0.27272727]\n",
      "Error: 0.019529275615147737\n",
      "CPU Time: 7.953125\n",
      "Wall Time: 9.261417388916016\n"
     ]
    }
   ],
   "source": [
    "col = [1,2,0]\n",
    "row = [1,3,0]\n",
    "toeplitz4 = toeplitz(col,row)\n",
    "\n",
    "circulant_matrix4 = circulant_preconditioner(toeplitz4)\n",
    "\n",
    "vector4 = [1]*3\n",
    "solve(matrix=toeplitz4, vector=vector4, preconditioner=circulant_matrix4, tol=1e-4)"
   ]
  },
  {
   "cell_type": "markdown",
   "id": "73aa75fa",
   "metadata": {},
   "source": [
    "## Larger Non-hermitian Experiments "
   ]
  },
  {
   "cell_type": "markdown",
   "id": "e1d769d9",
   "metadata": {},
   "source": [
    "### 1st Example - 16x16 Sparse\n",
    "\n",
    "This example employs a 16x16 tridiagonal matrix, that is, it is highly sparse. Upon examination, it becomes apparent that despite the preconditioned system improving the condition number, the execution time has deteriorated. This observation leads to the conclusion that sparse matrices are not well-suited for preconditioning (at least in this particular preconditioner case). This is attributed to the transformation of a sparse matrix into a dense one when multiplied by a preconditioner. Such a comparison becomes unequal, as the efficiency of HHL's quantum algorithm relies heavily on the sparsity of the matrices involved."
   ]
  },
  {
   "cell_type": "code",
   "execution_count": 16,
   "id": "c76927f1",
   "metadata": {},
   "outputs": [
    {
     "name": "stdout",
     "output_type": "stream",
     "text": [
      "Condition number: 7.972974369262368\n"
     ]
    }
   ],
   "source": [
    "example = np.diag([2]*16) + np.diag([1/2]*15, k=1) + np.diag([1/0.8]*15, k=-1)\n",
    "precond_ex = circulant_preconditioner(example)\n",
    "vector_ex = [1]*16\n",
    "\n",
    "print(f\"Condition number: {condition_number(example)}\")"
   ]
  },
  {
   "cell_type": "code",
   "execution_count": 17,
   "id": "652c1557",
   "metadata": {},
   "outputs": [
    {
     "name": "stdout",
     "output_type": "stream",
     "text": [
      "Condition number with precond: 1.5332663414747338\n"
     ]
    }
   ],
   "source": [
    "precond_matrix = np.dot(np.linalg.inv(precond_ex), example)\n",
    "precond_vector = np.dot(np.linalg.inv(precond_ex), vector_ex)\n",
    "print(f\"Condition number with precond: {condition_number(precond_matrix)}\")"
   ]
  },
  {
   "cell_type": "code",
   "execution_count": 18,
   "id": "0e5b8f01",
   "metadata": {},
   "outputs": [
    {
     "name": "stdout",
     "output_type": "stream",
     "text": [
      "Condition number of extended matrix: 12.388294459981728\n",
      "Condition number of extended precond matrix: 3.845436857038151\n"
     ]
    }
   ],
   "source": [
    "m1, v1 = set_system(example, vector_ex)\n",
    "m2, v2 = set_system(precond_matrix, precond_vector)\n",
    "print(f\"Condition number of extended matrix: {condition_number(m1)}\")\n",
    "print(f\"Condition number of extended precond matrix: {condition_number(m2)}\")"
   ]
  },
  {
   "cell_type": "code",
   "execution_count": 19,
   "id": "75f45254",
   "metadata": {},
   "outputs": [
    {
     "name": "stdout",
     "output_type": "stream",
     "text": [
      "\n",
      "Non preconditioned system:\n",
      "Warning: System had to be extended to N = 32. Input matrix is not hermitian and/or not of size 2^n. Condition number of extended matrix is actually 12.388294459981728\n",
      "\n",
      "Condition Number: 7.972974369262368\n",
      "HHL Result: [0.46964315 0.10235569 0.38780072 0.16694204 0.3400583  0.20865954\n",
      " 0.31184969 0.23281757 0.29469423 0.24600348 0.28228793 0.25334943\n",
      " 0.27047107 0.26396862 0.24254121 0.3429006 ]\n",
      "Classical Result: [0.47340137 0.10639454 0.39091844 0.17033989 0.34134433 0.20877295\n",
      " 0.31154738 0.2318781  0.29361913 0.24582823 0.28263927 0.25487235\n",
      " 0.27391242 0.26716945 0.24654115 0.34591178]\n",
      "Error: 0.008835878627672135\n",
      "CPU Time: 1472.140625\n",
      "Wall Time: 1527.0267403125763\n",
      "\n",
      "Preconditioned system:\n",
      "Warning: System had to be extended to N = 32. Input matrix is not hermitian and/or not of size 2^n. Condition number of extended matrix is actually 3.845436857038151\n",
      "\n",
      "Condition Number: 1.5332663414747338\n",
      "HHL Result: [0.47277421 0.10457079 0.38962937 0.16880741 0.34071113 0.20714941\n",
      " 0.31078787 0.23032109 0.29249079 0.24465651 0.28130441 0.25411007\n",
      " 0.27243429 0.26604559 0.24466082 0.34470055]\n",
      "Classical Result: [0.47340137 0.10639454 0.39091844 0.17033989 0.34134433 0.20877295\n",
      " 0.31154738 0.2318781  0.29361913 0.24582823 0.28263927 0.25487235\n",
      " 0.27391242 0.26716945 0.24654115 0.34591178]\n",
      "Error: 0.004496698400598834\n",
      "CPU Time: 1495.109375\n",
      "Wall Time: 1566.340143918991\n"
     ]
    }
   ],
   "source": [
    "solve(example, vector_ex, precond_ex, tol = 1e-2)"
   ]
  },
  {
   "cell_type": "markdown",
   "id": "fd899d4c",
   "metadata": {},
   "source": [
    "### 2nd Example - 16x16 Dense\n",
    "\n",
    "This example employs a 16x16 dense Toeplitz matrix, with elements randomly chosen from the range of -2 to 7. The contrast in performance between non-conditioned and conditioned systems is now significantly more pronounced, affirming our earlier assumptions."
   ]
  },
  {
   "cell_type": "code",
   "execution_count": null,
   "id": "a7898198",
   "metadata": {},
   "outputs": [],
   "source": [
    "# # Generating a random 16x16 Toeplitz dense matrix\n",
    "\n",
    "# from random import randint\n",
    "# from scipy.sparse import diags\n",
    "\n",
    "# positions = [i for i in range(-16,17)]\n",
    "# values = [randint(1,4) for i in range(33)]\n",
    "\n",
    "# example = diags(values, positions, shape = (16,16)).toarray()\n",
    "# print(example)"
   ]
  },
  {
   "cell_type": "code",
   "execution_count": 4,
   "id": "92393cc9",
   "metadata": {},
   "outputs": [],
   "source": [
    "example = np.array([\n",
    "    [5, 1, 1, 6, 1, 6, 4, 2, -1, 5, 5, 5, -1, 7, 7, 5],\n",
    "    [-2, 5, 1, 1, 6, 1, 6, 4, 2, -1, 5, 5, 5, -1, 7, 7],\n",
    "    [7, -2, 5, 1, 1, 6, 1, 6, 4, 2, -1, 5, 5, 5, -1, 7],\n",
    "    [3, 7, -2, 5, 1, 1, 6, 1, 6, 4, 2, -1, 5, 5, 5, -1],\n",
    "    [2, 3, 7, -2, 5, 1, 1, 6, 1, 6, 4, 2, -1, 5, 5, 5],\n",
    "    [5, 2, 3, 7, -2, 5, 1, 1, 6, 1, 6, 4, 2, -1, 5, 5],\n",
    "    [3, 5, 2, 3, 7, -2, 5, 1, 1, 6, 1, 6, 4, 2, -1, 5],\n",
    "    [6, 3, 5, 2, 3, 7, -2, 5, 1, 1, 6, 1, 6, 4, 2, -1],\n",
    "    [2, 6, 3, 5, 2, 3, 7, -2, 5, 1, 1, 6, 1, 6, 4, 2],\n",
    "    [5, 2, 6, 3, 5, 2, 3, 7, -2, 5, 1, 1, 6, 1, 6, 4],\n",
    "    [6, 5, 2, 6, 3, 5, 2, 3, 7, -2, 5, 1, 1, 6, 1, 6],\n",
    "    [4, 6, 5, 2, 6, 3, 5, 2, 3, 7, -2, 5, 1, 1, 6, 1],\n",
    "    [-2, 4, 6, 5, 2, 6, 3, 5, 2, 3, 7, -2, 5, 1, 1, 6],\n",
    "    [6, -2, 4, 6, 5, 2, 6, 3, 5, 2, 3, 7, -2, 5, 1, 1],\n",
    "    [0, 6, -2, 4, 6, 5, 2, 6, 3, 5, 2, 3, 7, -2, 5, 1],\n",
    "    [-1, 0, 6, -2, 4, 6, 5, 2, 6, 3, 5, 2, 3, 7, -2, 5]],dtype=float)"
   ]
  },
  {
   "cell_type": "code",
   "execution_count": 5,
   "id": "e93c718b",
   "metadata": {},
   "outputs": [
    {
     "name": "stdout",
     "output_type": "stream",
     "text": [
      "Condition number: 20.931004526427586\n",
      "Condition number with precond: 2.3278536314082445\n",
      "\n",
      "Condition number of extended matrix: 63.208012902393484\n",
      "Condition number of extended precond matrix: 13.81530524443855\n"
     ]
    }
   ],
   "source": [
    "precond_ex = circulant_preconditioner(example)\n",
    "vector_ex = [1]*16\n",
    "print(f\"Condition number: {condition_number(example)}\")\n",
    "\n",
    "precond_matrix = np.dot(np.linalg.inv(precond_ex), example)\n",
    "precond_vector = np.dot(np.linalg.inv(precond_ex), vector_ex)\n",
    "print(f\"Condition number with precond: {condition_number(precond_matrix)}\\n\")\n",
    "\n",
    "m1, v1 = set_system(example, vector_ex)\n",
    "m2, v2 = set_system(precond_matrix, precond_vector)\n",
    "print(f\"Condition number of extended matrix: {condition_number(m1)}\")\n",
    "print(f\"Condition number of extended precond matrix: {condition_number(m2)}\")"
   ]
  },
  {
   "cell_type": "code",
   "execution_count": 6,
   "id": "8579ab14",
   "metadata": {},
   "outputs": [
    {
     "name": "stdout",
     "output_type": "stream",
     "text": [
      "\n",
      "Non preconditioned system:\n",
      "Warning: System had to be extended to N = 32. Input matrix is not hermitian and/or not of size 2^n. Condition number of extended matrix is actually 63.208012902393484\n",
      "\n",
      "Condition Number: 20.931004526427586\n",
      "HHL Result: [ 0.01422812  0.025456    0.0192649   0.00489215 -0.00903158 -0.00329681\n",
      "  0.01950822  0.03189928  0.02572489  0.02576888  0.03428114  0.03637148\n",
      "  0.02925109  0.01716268  0.00583081  0.00248407]\n",
      "Classical Result: [ 0.01666188  0.02774937  0.02161261  0.0073247  -0.00618548 -0.0002984\n",
      "  0.02218865  0.03413141  0.02784375  0.02786089  0.03643514  0.03839841\n",
      "  0.03117803  0.01937855  0.00823093  0.00532442]\n",
      "Error: 0.1007274673772837\n",
      "CPU Time: 3660.5\n",
      "Wall Time: 3880.959947347641\n",
      "\n",
      "Preconditioned system:\n",
      "Warning: System had to be extended to N = 32. Input matrix is not hermitian and/or not of size 2^n. Condition number of extended matrix is actually 13.81530524443855\n",
      "\n",
      "Condition Number: 2.3278536314082445\n",
      "HHL Result: [ 0.01635865  0.02785575  0.02180759  0.00740385 -0.00609993 -0.00043042\n",
      "  0.02215646  0.03444357  0.02774806  0.02743981  0.03637366  0.03830829\n",
      "  0.03092455  0.01948177  0.00813884  0.00525609]\n",
      "Classical Result: [ 0.01666188  0.02774937  0.02161261  0.0073247  -0.00618548 -0.0002984\n",
      "  0.02218865  0.03413141  0.02784375  0.02786089  0.03643514  0.03839841\n",
      "  0.03117803  0.01937855  0.00823093  0.00532442]\n",
      "Error: 0.007841694977336562\n",
      "CPU Time: 1467.203125\n",
      "Wall Time: 1517.364827156067\n"
     ]
    }
   ],
   "source": [
    "solve(example, vector_ex, precond_ex, tol=1e-2)"
   ]
  },
  {
   "cell_type": "markdown",
   "id": "cbb89131",
   "metadata": {},
   "source": [
    "### 3rd Example - 16x16 Dense\n",
    "In this example, preconditioning reduced the condition number by a larger margin. Thus, the improvement in the execution time of HHL is even more evident."
   ]
  },
  {
   "cell_type": "code",
   "execution_count": 21,
   "id": "2e366849",
   "metadata": {},
   "outputs": [],
   "source": [
    "example = np.array([\n",
    "    [3., 2., 2., 1., 4., 1., 2., 1., 1., 4., 4., 4., 4., 4., 2., 2.],\n",
    "    [4., 3., 2., 2., 1., 4., 1., 2., 1., 1., 4., 4., 4., 4., 4., 2.],\n",
    "    [3., 4., 3., 2., 2., 1., 4., 1., 2., 1., 1., 4., 4., 4., 4., 4.],\n",
    "    [1., 3., 4., 3., 2., 2., 1., 4., 1., 2., 1., 1., 4., 4., 4., 4.],\n",
    "    [1., 1., 3., 4., 3., 2., 2., 1., 4., 1., 2., 1., 1., 4., 4., 4.],\n",
    "    [2., 1., 1., 3., 4., 3., 2., 2., 1., 4., 1., 2., 1., 1., 4., 4.],\n",
    "    [4., 2., 1., 1., 3., 4., 3., 2., 2., 1., 4., 1., 2., 1., 1., 4.],\n",
    "    [3., 4., 2., 1., 1., 3., 4., 3., 2., 2., 1., 4., 1., 2., 1., 1.],\n",
    "    [1., 3., 4., 2., 1., 1., 3., 4., 3., 2., 2., 1., 4., 1., 2., 1.],\n",
    "    [1., 1., 3., 4., 2., 1., 1., 3., 4., 3., 2., 2., 1., 4., 1., 2.],\n",
    "    [2., 1., 1., 3., 4., 2., 1., 1., 3., 4., 3., 2., 2., 1., 4., 1.],\n",
    "    [3., 2., 1., 1., 3., 4., 2., 1., 1., 3., 4., 3., 2., 2., 1., 4.],\n",
    "    [1., 3., 2., 1., 1., 3., 4., 2., 1., 1., 3., 4., 3., 2., 2., 1.],\n",
    "    [2., 1., 3., 2., 1., 1., 3., 4., 2., 1., 1., 3., 4., 3., 2., 2.],\n",
    "    [2., 2., 1., 3., 2., 1., 1., 3., 4., 2., 1., 1., 3., 4., 3., 2.],\n",
    "    [1., 2., 2., 1., 3., 2., 1., 1., 3., 4., 2., 1., 1., 3., 4., 3.]], dtype=float)"
   ]
  },
  {
   "cell_type": "code",
   "execution_count": 22,
   "id": "8eb663cc",
   "metadata": {},
   "outputs": [
    {
     "name": "stdout",
     "output_type": "stream",
     "text": [
      "Condition number: 99.80192726002834\n",
      "Condition number with precond: 5.52282826373228\n",
      "\n",
      "Condition number of extended matrix: 214.86127395127494\n",
      "Condition number of extended precond matrix: 35.40120917007131\n"
     ]
    }
   ],
   "source": [
    "precond_ex = circulant_preconditioner(example)\n",
    "vector_ex = [1]*16\n",
    "print(f\"Condition number: {condition_number(example)}\")\n",
    "\n",
    "precond_matrix = np.dot(np.linalg.inv(precond_ex), example)\n",
    "precond_vector = np.dot(np.linalg.inv(precond_ex), vector_ex)\n",
    "print(f\"Condition number with precond: {condition_number(precond_matrix)}\\n\")\n",
    "\n",
    "m1, v1 = set_system(example, vector_ex)\n",
    "m2, v2 = set_system(precond_matrix, precond_vector)\n",
    "print(f\"Condition number of extended matrix: {condition_number(m1)}\")\n",
    "print(f\"Condition number of extended precond matrix: {condition_number(m2)}\")"
   ]
  },
  {
   "cell_type": "code",
   "execution_count": 23,
   "id": "ce7a5439",
   "metadata": {},
   "outputs": [
    {
     "ename": "MemoryError",
     "evalue": "Unable to allocate 16.0 GiB for an array with shape (32768, 32768) and data type complex128",
     "output_type": "error",
     "traceback": [
      "\u001b[1;31m---------------------------------------------------------------------------\u001b[0m",
      "\u001b[1;31mMemoryError\u001b[0m                               Traceback (most recent call last)",
      "Cell \u001b[1;32mIn[23], line 1\u001b[0m\n\u001b[1;32m----> 1\u001b[0m \u001b[43msolve\u001b[49m\u001b[43m(\u001b[49m\u001b[43mexample\u001b[49m\u001b[43m,\u001b[49m\u001b[43m \u001b[49m\u001b[43mvector_ex\u001b[49m\u001b[43m,\u001b[49m\u001b[43m \u001b[49m\u001b[43mprecond_ex\u001b[49m\u001b[43m,\u001b[49m\u001b[43m \u001b[49m\u001b[43mtol\u001b[49m\u001b[38;5;241;43m=\u001b[39;49m\u001b[38;5;241;43m1e-2\u001b[39;49m\u001b[43m)\u001b[49m\n",
      "Cell \u001b[1;32mIn[2], line 158\u001b[0m, in \u001b[0;36msolve\u001b[1;34m(matrix, vector, preconditioner, tol)\u001b[0m\n\u001b[0;32m    154\u001b[0m set_matrix2,set_vector2 \u001b[38;5;241m=\u001b[39m set_system(pc_matrix,pc_vector)\n\u001b[0;32m    155\u001b[0m \u001b[38;5;66;03m#print(f\"Matrix PC: {set_matrix2} and vector PC is {set_vector2}\")\u001b[39;00m\n\u001b[0;32m    156\u001b[0m \n\u001b[0;32m    157\u001b[0m \u001b[38;5;66;03m# Non preconditioned system resolution\u001b[39;00m\n\u001b[1;32m--> 158\u001b[0m hhl_result1, cpu_time1, real_time1 \u001b[38;5;241m=\u001b[39m \u001b[43msolve_hhl\u001b[49m\u001b[43m(\u001b[49m\u001b[43mset_matrix1\u001b[49m\u001b[43m,\u001b[49m\u001b[43mset_vector1\u001b[49m\u001b[43m,\u001b[49m\u001b[43mtol\u001b[49m\u001b[43m)\u001b[49m\n\u001b[0;32m    159\u001b[0m classical_result1 \u001b[38;5;241m=\u001b[39m solve_classical(set_matrix1,set_vector1)\n\u001b[0;32m    160\u001b[0m hhl_result1, classical_result1 \u001b[38;5;241m=\u001b[39m hhl_result1[:n], classical_result1[:n]\n",
      "Cell \u001b[1;32mIn[2], line 23\u001b[0m, in \u001b[0;36msolve_hhl\u001b[1;34m(matrix, vector, tol, verbose)\u001b[0m\n\u001b[0;32m     21\u001b[0m start_time_real \u001b[38;5;241m=\u001b[39m time\u001b[38;5;241m.\u001b[39mtime()\n\u001b[0;32m     22\u001b[0m start_time \u001b[38;5;241m=\u001b[39m time\u001b[38;5;241m.\u001b[39mprocess_time()\n\u001b[1;32m---> 23\u001b[0m hhl \u001b[38;5;241m=\u001b[39m \u001b[43mHHL\u001b[49m\u001b[43m(\u001b[49m\u001b[43mtol\u001b[49m\u001b[43m)\u001b[49m\u001b[38;5;241;43m.\u001b[39;49m\u001b[43msolve\u001b[49m\u001b[43m(\u001b[49m\u001b[43mmatrix\u001b[49m\u001b[43m,\u001b[49m\u001b[43m \u001b[49m\u001b[43mvector\u001b[49m\u001b[43m)\u001b[49m\n\u001b[0;32m     24\u001b[0m elapsed_cpu_time \u001b[38;5;241m=\u001b[39m time\u001b[38;5;241m.\u001b[39mprocess_time() \u001b[38;5;241m-\u001b[39m start_time\n\u001b[0;32m     25\u001b[0m elapsed_real_time \u001b[38;5;241m=\u001b[39m time\u001b[38;5;241m.\u001b[39mtime() \u001b[38;5;241m-\u001b[39m start_time_real\n",
      "File \u001b[1;32mc:\\Users\\Barbara\\Desktop\\Arquivos\\Projects\\UFRJ\\QC\\.venv\\Lib\\site-packages\\linear_solvers\\hhl.py:542\u001b[0m, in \u001b[0;36mHHL.solve\u001b[1;34m(self, matrix, vector, observable, observable_circuit, post_processing)\u001b[0m\n\u001b[0;32m    540\u001b[0m solution \u001b[38;5;241m=\u001b[39m LinearSolverResult()\n\u001b[0;32m    541\u001b[0m solution\u001b[38;5;241m.\u001b[39mstate \u001b[38;5;241m=\u001b[39m \u001b[38;5;28mself\u001b[39m\u001b[38;5;241m.\u001b[39mconstruct_circuit(matrix, vector)\n\u001b[1;32m--> 542\u001b[0m solution\u001b[38;5;241m.\u001b[39meuclidean_norm \u001b[38;5;241m=\u001b[39m \u001b[38;5;28;43mself\u001b[39;49m\u001b[38;5;241;43m.\u001b[39;49m\u001b[43m_calculate_norm\u001b[49m\u001b[43m(\u001b[49m\u001b[43msolution\u001b[49m\u001b[38;5;241;43m.\u001b[39;49m\u001b[43mstate\u001b[49m\u001b[43m)\u001b[49m\n\u001b[0;32m    544\u001b[0m \u001b[38;5;28;01mif\u001b[39;00m \u001b[38;5;28misinstance\u001b[39m(observable, List):\n\u001b[0;32m    545\u001b[0m     observable_all, circuit_results_all \u001b[38;5;241m=\u001b[39m [], []\n",
      "File \u001b[1;32mc:\\Users\\Barbara\\Desktop\\Arquivos\\Projects\\UFRJ\\QC\\.venv\\Lib\\site-packages\\linear_solvers\\hhl.py:222\u001b[0m, in \u001b[0;36mHHL._calculate_norm\u001b[1;34m(self, qc)\u001b[0m\n\u001b[0;32m    220\u001b[0m \u001b[38;5;66;03m# Norm observable\u001b[39;00m\n\u001b[0;32m    221\u001b[0m observable \u001b[38;5;241m=\u001b[39m one_op \u001b[38;5;241m^\u001b[39m TensoredOp((nl \u001b[38;5;241m+\u001b[39m na) \u001b[38;5;241m*\u001b[39m [zero_op]) \u001b[38;5;241m^\u001b[39m (I \u001b[38;5;241m^\u001b[39m nb)\n\u001b[1;32m--> 222\u001b[0m norm_2 \u001b[38;5;241m=\u001b[39m \u001b[43m(\u001b[49m\u001b[38;5;241;43m~\u001b[39;49m\u001b[43mStateFn\u001b[49m\u001b[43m(\u001b[49m\u001b[43mobservable\u001b[49m\u001b[43m)\u001b[49m\u001b[43m \u001b[49m\u001b[38;5;241;43m@\u001b[39;49m\u001b[43m \u001b[49m\u001b[43mStateFn\u001b[49m\u001b[43m(\u001b[49m\u001b[43mqc\u001b[49m\u001b[43m)\u001b[49m\u001b[43m)\u001b[49m\u001b[38;5;241;43m.\u001b[39;49m\u001b[43meval\u001b[49m\u001b[43m(\u001b[49m\u001b[43m)\u001b[49m\n\u001b[0;32m    224\u001b[0m \u001b[38;5;28;01mreturn\u001b[39;00m np\u001b[38;5;241m.\u001b[39mreal(np\u001b[38;5;241m.\u001b[39msqrt(norm_2) \u001b[38;5;241m/\u001b[39m \u001b[38;5;28mself\u001b[39m\u001b[38;5;241m.\u001b[39mscaling)\n",
      "File \u001b[1;32mc:\\Users\\Barbara\\Desktop\\Arquivos\\Projects\\UFRJ\\QC\\.venv\\Lib\\site-packages\\qiskit\\opflow\\list_ops\\composed_op.py:161\u001b[0m, in \u001b[0;36mComposedOp.eval\u001b[1;34m(self, front)\u001b[0m\n\u001b[0;32m    158\u001b[0m \u001b[38;5;28;01melif\u001b[39;00m front:\n\u001b[0;32m    159\u001b[0m     eval_list \u001b[38;5;241m=\u001b[39m [StateFn(front, is_measurement\u001b[38;5;241m=\u001b[39m\u001b[38;5;28;01mTrue\u001b[39;00m)] \u001b[38;5;241m+\u001b[39m eval_list  \u001b[38;5;66;03m# type: ignore\u001b[39;00m\n\u001b[1;32m--> 161\u001b[0m \u001b[38;5;28;01mreturn\u001b[39;00m \u001b[43mreduce\u001b[49m\u001b[43m(\u001b[49m\u001b[43mtree_recursive_eval\u001b[49m\u001b[43m,\u001b[49m\u001b[43m \u001b[49m\u001b[38;5;28;43mreversed\u001b[39;49m\u001b[43m(\u001b[49m\u001b[43meval_list\u001b[49m\u001b[43m)\u001b[49m\u001b[43m)\u001b[49m\n",
      "File \u001b[1;32mc:\\Users\\Barbara\\Desktop\\Arquivos\\Projects\\UFRJ\\QC\\.venv\\Lib\\site-packages\\qiskit\\opflow\\list_ops\\composed_op.py:151\u001b[0m, in \u001b[0;36mComposedOp.eval.<locals>.tree_recursive_eval\u001b[1;34m(r, l_arg)\u001b[0m\n\u001b[0;32m    149\u001b[0m     \u001b[38;5;28;01mreturn\u001b[39;00m [tree_recursive_eval(r_op, l_arg) \u001b[38;5;28;01mfor\u001b[39;00m r_op \u001b[38;5;129;01min\u001b[39;00m r]\n\u001b[0;32m    150\u001b[0m \u001b[38;5;28;01melse\u001b[39;00m:\n\u001b[1;32m--> 151\u001b[0m     \u001b[38;5;28;01mreturn\u001b[39;00m \u001b[43ml_arg\u001b[49m\u001b[38;5;241;43m.\u001b[39;49m\u001b[43meval\u001b[49m\u001b[43m(\u001b[49m\u001b[43mr\u001b[49m\u001b[43m)\u001b[49m\n",
      "File \u001b[1;32mc:\\Users\\Barbara\\Desktop\\Arquivos\\Projects\\UFRJ\\QC\\.venv\\Lib\\site-packages\\qiskit\\opflow\\state_fns\\operator_state_fn.py:256\u001b[0m, in \u001b[0;36mOperatorStateFn.eval\u001b[1;34m(self, front)\u001b[0m\n\u001b[0;32m    253\u001b[0m \u001b[38;5;28;01mif\u001b[39;00m \u001b[38;5;28misinstance\u001b[39m(front, CircuitStateFn):\n\u001b[0;32m    254\u001b[0m     front \u001b[38;5;241m=\u001b[39m front\u001b[38;5;241m.\u001b[39meval()\n\u001b[1;32m--> 256\u001b[0m \u001b[38;5;28;01mreturn\u001b[39;00m front\u001b[38;5;241m.\u001b[39madjoint()\u001b[38;5;241m.\u001b[39meval(cast(OperatorBase, \u001b[38;5;28;43mself\u001b[39;49m\u001b[38;5;241;43m.\u001b[39;49m\u001b[43mprimitive\u001b[49m\u001b[38;5;241;43m.\u001b[39;49m\u001b[43meval\u001b[49m\u001b[43m(\u001b[49m\u001b[43mfront\u001b[49m\u001b[43m)\u001b[49m)) \u001b[38;5;241m*\u001b[39m \u001b[38;5;28mself\u001b[39m\u001b[38;5;241m.\u001b[39mcoeff\n",
      "File \u001b[1;32mc:\\Users\\Barbara\\Desktop\\Arquivos\\Projects\\UFRJ\\QC\\.venv\\Lib\\site-packages\\qiskit\\opflow\\list_ops\\tensored_op.py:90\u001b[0m, in \u001b[0;36mTensoredOp.eval\u001b[1;34m(self, front)\u001b[0m\n\u001b[0;32m     88\u001b[0m \u001b[38;5;28;01mif\u001b[39;00m \u001b[38;5;28mself\u001b[39m\u001b[38;5;241m.\u001b[39m_is_empty():\n\u001b[0;32m     89\u001b[0m     \u001b[38;5;28;01mreturn\u001b[39;00m \u001b[38;5;241m0.0\u001b[39m\n\u001b[1;32m---> 90\u001b[0m \u001b[38;5;28;01mreturn\u001b[39;00m cast(Union[OperatorBase, \u001b[38;5;28mcomplex\u001b[39m], \u001b[38;5;28;43mself\u001b[39;49m\u001b[38;5;241;43m.\u001b[39;49m\u001b[43mto_matrix_op\u001b[49m\u001b[43m(\u001b[49m\u001b[43m)\u001b[49m\u001b[38;5;241;43m.\u001b[39;49m\u001b[43meval\u001b[49m\u001b[43m(\u001b[49m\u001b[43mfront\u001b[49m\u001b[38;5;241;43m=\u001b[39;49m\u001b[43mfront\u001b[49m\u001b[43m)\u001b[49m)\n",
      "File \u001b[1;32mc:\\Users\\Barbara\\Desktop\\Arquivos\\Projects\\UFRJ\\QC\\.venv\\Lib\\site-packages\\qiskit\\opflow\\primitive_ops\\matrix_op.py:222\u001b[0m, in \u001b[0;36mMatrixOp.eval\u001b[1;34m(self, front)\u001b[0m\n\u001b[0;32m    219\u001b[0m     new_front \u001b[38;5;241m=\u001b[39m OperatorStateFn(\u001b[38;5;28mself\u001b[39m\u001b[38;5;241m.\u001b[39madjoint()\u001b[38;5;241m.\u001b[39mcompose(front\u001b[38;5;241m.\u001b[39mto_matrix_op())\u001b[38;5;241m.\u001b[39mcompose(\u001b[38;5;28mself\u001b[39m))\n\u001b[0;32m    221\u001b[0m \u001b[38;5;28;01melif\u001b[39;00m \u001b[38;5;28misinstance\u001b[39m(front, OperatorBase):\n\u001b[1;32m--> 222\u001b[0m     new_front \u001b[38;5;241m=\u001b[39m VectorStateFn(\u001b[38;5;28;43mself\u001b[39;49m\u001b[38;5;241;43m.\u001b[39;49m\u001b[43mto_matrix\u001b[49m\u001b[43m(\u001b[49m\u001b[43m)\u001b[49m \u001b[38;5;241m@\u001b[39m front\u001b[38;5;241m.\u001b[39mto_matrix())\n\u001b[0;32m    224\u001b[0m \u001b[38;5;28;01mreturn\u001b[39;00m new_front\n",
      "File \u001b[1;32mc:\\Users\\Barbara\\Desktop\\Arquivos\\Projects\\UFRJ\\QC\\.venv\\Lib\\site-packages\\qiskit\\opflow\\primitive_ops\\matrix_op.py:184\u001b[0m, in \u001b[0;36mMatrixOp.to_matrix\u001b[1;34m(self, massive)\u001b[0m\n\u001b[0;32m    183\u001b[0m \u001b[38;5;28;01mdef\u001b[39;00m \u001b[38;5;21mto_matrix\u001b[39m(\u001b[38;5;28mself\u001b[39m, massive: \u001b[38;5;28mbool\u001b[39m \u001b[38;5;241m=\u001b[39m \u001b[38;5;28;01mFalse\u001b[39;00m) \u001b[38;5;241m-\u001b[39m\u001b[38;5;241m>\u001b[39m np\u001b[38;5;241m.\u001b[39mndarray:\n\u001b[1;32m--> 184\u001b[0m     \u001b[38;5;28;01mreturn\u001b[39;00m \u001b[38;5;28;43mself\u001b[39;49m\u001b[38;5;241;43m.\u001b[39;49m\u001b[43mprimitive\u001b[49m\u001b[38;5;241;43m.\u001b[39;49m\u001b[43mdata\u001b[49m\u001b[43m \u001b[49m\u001b[38;5;241;43m*\u001b[39;49m\u001b[43m \u001b[49m\u001b[38;5;28;43mself\u001b[39;49m\u001b[38;5;241;43m.\u001b[39;49m\u001b[43mcoeff\u001b[49m\n",
      "\u001b[1;31mMemoryError\u001b[0m: Unable to allocate 16.0 GiB for an array with shape (32768, 32768) and data type complex128"
     ]
    }
   ],
   "source": [
    "solve(example, vector_ex, precond_ex, tol=1e-2)"
   ]
  },
  {
   "cell_type": "markdown",
   "id": "d806ce06",
   "metadata": {},
   "source": [
    "## 32x32 Non-hermitian Experiment\n",
    "\n",
    "This experiment, using a 32x32 matrix that was later expanded to a 64x64 system, encountered memory issues and proved unfeasible for execution. The tests were conducted on a computer with 32 GB of RAM, but the HHL execution appears to exceed the available memory capacity. This suggests that Qiskit's HHL may have limited scalability."
   ]
  },
  {
   "cell_type": "code",
   "execution_count": 6,
   "id": "81efe5e1",
   "metadata": {},
   "outputs": [],
   "source": [
    "# Random Toeplitz\n",
    "\n",
    "from random import randint\n",
    "from scipy.sparse import diags\n",
    "np.set_printoptions(threshold=np.inf)\n",
    "\n",
    "# positions = [i for i in range(-32,33)]\n",
    "# values = [randint(1,4) for i in range(65)]\n",
    "\n",
    "# example = diags(values, positions, shape = (32,32)).toarray()\n",
    "# print(example)"
   ]
  },
  {
   "cell_type": "code",
   "execution_count": 84,
   "id": "ed6fe804",
   "metadata": {},
   "outputs": [],
   "source": [
    "example = [[2, 2, 2, 3, 1, 1, 3, 3, 2, 1, 2, 4, 1, 1, 1, 3, 2, 2, 1, 2, 1, 3, 4, 4,\n",
    "  3, 1, 1, 3, 1, 3, 1, 3],\n",
    " [3, 2, 2, 2, 3, 1, 1, 3, 3, 2, 1, 2, 4, 1, 1, 1, 3, 2, 2, 1, 2, 1, 3, 4,\n",
    "  4, 3, 1, 1, 3, 1, 3, 1],\n",
    " [2, 3, 2, 2, 2, 3, 1, 1, 3, 3, 2, 1, 2, 4, 1, 1, 1, 3, 2, 2, 1, 2, 1, 3,\n",
    "  4, 4, 3, 1, 1, 3, 1, 3],\n",
    " [4, 2, 3, 2, 2, 2, 3, 1, 1, 3, 3, 2, 1, 2, 4, 1, 1, 1, 3, 2, 2, 1, 2, 1,\n",
    "  3, 4, 4, 3, 1, 1, 3, 1],\n",
    " [4, 4, 2, 3, 2, 2, 2, 3, 1, 1, 3, 3, 2, 1, 2, 4, 1, 1, 1, 3, 2, 2, 1, 2,\n",
    "  1, 3, 4, 4, 3, 1, 1, 3],\n",
    " [1, 4, 4, 2, 3, 2, 2, 2, 3, 1, 1, 3, 3, 2, 1, 2, 4, 1, 1, 1, 3, 2, 2, 1,\n",
    "  2, 1, 3, 4, 4, 3, 1, 1],\n",
    " [1, 1, 4, 4, 2, 3, 2, 2, 2, 3, 1, 1, 3, 3, 2, 1, 2, 4, 1, 1, 1, 3, 2, 2,\n",
    "  1, 2, 1, 3, 4, 4, 3, 1],\n",
    " [3, 1, 1, 4, 4, 2, 3, 2, 2, 2, 3, 1, 1, 3, 3, 2, 1, 2, 4, 1, 1, 1, 3, 2,\n",
    "  2, 1, 2, 1, 3, 4, 4, 3],\n",
    " [2, 3, 1, 1, 4, 4, 2, 3, 2, 2, 2, 3, 1, 1, 3, 3, 2, 1, 2, 4, 1, 1, 1, 3,\n",
    "  2, 2, 1, 2, 1, 3, 4, 4],\n",
    " [1, 2, 3, 1, 1, 4, 4, 2, 3, 2, 2, 2, 3, 1, 1, 3, 3, 2, 1, 2, 4, 1, 1, 1,\n",
    "  3, 2, 2, 1, 2, 1, 3, 4],\n",
    " [4, 1, 2, 3, 1, 1, 4, 4, 2, 3, 2, 2, 2, 3, 1, 1, 3, 3, 2, 1, 2, 4, 1, 1,\n",
    "  1, 3, 2, 2, 1, 2, 1, 3],\n",
    " [3, 4, 1, 2, 3, 1, 1, 4, 4, 2, 3, 2, 2, 2, 3, 1, 1, 3, 3, 2, 1, 2, 4, 1,\n",
    "  1, 1, 3, 2, 2, 1, 2, 1],\n",
    " [3, 3, 4, 1, 2, 3, 1, 1, 4, 4, 2, 3, 2, 2, 2, 3, 1, 1, 3, 3, 2, 1, 2, 4,\n",
    "  1, 1, 1, 3, 2, 2, 1, 2],\n",
    " [4, 3, 3, 4, 1, 2, 3, 1, 1, 4, 4, 2, 3, 2, 2, 2, 3, 1, 1, 3, 3, 2, 1, 2,\n",
    "  4, 1, 1, 1, 3, 2, 2, 1],\n",
    " [2, 4, 3, 3, 4, 1, 2, 3, 1, 1, 4, 4, 2, 3, 2, 2, 2, 3, 1, 1, 3, 3, 2, 1,\n",
    "  2, 4, 1, 1, 1, 3, 2, 2],\n",
    " [3, 2, 4, 3, 3, 4, 1, 2, 3, 1, 1, 4, 4, 2, 3, 2, 2, 2, 3, 1, 1, 3, 3, 2,\n",
    "  1, 2, 4, 1, 1, 1, 3, 2],\n",
    " [1, 3, 2, 4, 3, 3, 4, 1, 2, 3, 1, 1, 4, 4, 2, 3, 2, 2, 2, 3, 1, 1, 3, 3,\n",
    "  2, 1, 2, 4, 1, 1, 1, 3],\n",
    " [1, 1, 3, 2, 4, 3, 3, 4, 1, 2, 3, 1, 1, 4, 4, 2, 3, 2, 2, 2, 3, 1, 1, 3,\n",
    "  3, 2, 1, 2, 4, 1, 1, 1],\n",
    " [2, 1, 1, 3, 2, 4, 3, 3, 4, 1, 2, 3, 1, 1, 4, 4, 2, 3, 2, 2, 2, 3, 1, 1,\n",
    "  3, 3, 2, 1, 2, 4, 1, 1],\n",
    " [2, 2, 1, 1, 3, 2, 4, 3, 3, 4, 1, 2, 3, 1, 1, 4, 4, 2, 3, 2, 2, 2, 3, 1,\n",
    "  1, 3, 3, 2, 1, 2, 4, 1],\n",
    " [4, 2, 2, 1, 1, 3, 2, 4, 3, 3, 4, 1, 2, 3, 1, 1, 4, 4, 2, 3, 2, 2, 2, 3,\n",
    "  1, 1, 3, 3, 2, 1, 2, 4],\n",
    " [1, 4, 2, 2, 1, 1, 3, 2, 4, 3, 3, 4, 1, 2, 3, 1, 1, 4, 4, 2, 3, 2, 2, 2,\n",
    "  3, 1, 1, 3, 3, 2, 1, 2],\n",
    " [1, 1, 4, 2, 2, 1, 1, 3, 2, 4, 3, 3, 4, 1, 2, 3, 1, 1, 4, 4, 2, 3, 2, 2,\n",
    "  2, 3, 1, 1, 3, 3, 2, 1],\n",
    " [3, 1, 1, 4, 2, 2, 1, 1, 3, 2, 4, 3, 3, 4, 1, 2, 3, 1, 1, 4, 4, 2, 3, 2,\n",
    "  2, 2, 3, 1, 1, 3, 3, 2],\n",
    " [3, 3, 1, 1, 4, 2, 2, 1, 1, 3, 2, 4, 3, 3, 4, 1, 2, 3, 1, 1, 4, 4, 2, 3,\n",
    "  2, 2, 2, 3, 1, 1, 3, 3],\n",
    " [4, 3, 3, 1, 1, 4, 2, 2, 1, 1, 3, 2, 4, 3, 3, 4, 1, 2, 3, 1, 1, 4, 4, 2,\n",
    "  3, 2, 2, 2, 3, 1, 1, 3],\n",
    " [4, 4, 3, 3, 1, 1, 4, 2, 2, 1, 1, 3, 2, 4, 3, 3, 4, 1, 2, 3, 1, 1, 4, 4,\n",
    "  2, 3, 2, 2, 2, 3, 1, 1],\n",
    " [4, 4, 4, 3, 3, 1, 1, 4, 2, 2, 1, 1, 3, 2, 4, 3, 3, 4, 1, 2, 3, 1, 1, 4,\n",
    "  4, 2, 3, 2, 2, 2, 3, 1],\n",
    " [1, 4, 4, 4, 3, 3, 1, 1, 4, 2, 2, 1, 1, 3, 2, 4, 3, 3, 4, 1, 2, 3, 1, 1,\n",
    "  4, 4, 2, 3, 2, 2, 2, 3],\n",
    " [2, 1, 4, 4, 4, 3, 3, 1, 1, 4, 2, 2, 1, 1, 3, 2, 4, 3, 3, 4, 1, 2, 3, 1,\n",
    "  1, 4, 4, 2, 3, 2, 2, 2],\n",
    " [2, 2, 1, 4, 4, 4, 3, 3, 1, 1, 4, 2, 2, 1, 1, 3, 2, 4, 3, 3, 4, 1, 2, 3,\n",
    "  1, 1, 4, 4, 2, 3, 2, 2],\n",
    " [3, 2, 2, 1, 4, 4, 4, 3, 3, 1, 1, 4, 2, 2, 1, 1, 3, 2, 4, 3, 3, 4, 1, 2,\n",
    "  3, 1, 1, 4, 4, 2, 3, 2]]"
   ]
  },
  {
   "cell_type": "code",
   "execution_count": 85,
   "id": "c9ce4ef5",
   "metadata": {},
   "outputs": [],
   "source": [
    "example = np.array(example, dtype=np.float64)"
   ]
  },
  {
   "cell_type": "code",
   "execution_count": 86,
   "id": "0d6e3cd3",
   "metadata": {},
   "outputs": [
    {
     "name": "stdout",
     "output_type": "stream",
     "text": [
      "Condition number: 80.49451967664568\n",
      "Condition number with precond: 2.6150760336623886\n",
      "\n",
      "Condition number of extended matrix: 144.41092784911405\n",
      "Condition number of extended precond matrix: 22.27462236010347\n"
     ]
    }
   ],
   "source": [
    "precond_ex = circulant_preconditioner(example)\n",
    "vector_ex = [1]*example.shape[0]\n",
    "print(f\"Condition number: {condition_number(example)}\")\n",
    "\n",
    "precond_matrix = np.dot(np.linalg.inv(precond_ex), example)\n",
    "precond_vector = np.dot(np.linalg.inv(precond_ex), vector_ex)\n",
    "print(f\"Condition number with precond: {condition_number(precond_matrix)}\\n\")\n",
    "\n",
    "m1, v1 = set_system(example, vector_ex)\n",
    "m2, v2 = set_system(precond_matrix, precond_vector)\n",
    "print(f\"Condition number of extended matrix: {condition_number(m1)}\")\n",
    "print(f\"Condition number of extended precond matrix: {condition_number(m2)}\")"
   ]
  },
  {
   "cell_type": "code",
   "execution_count": null,
   "id": "19bd9a67",
   "metadata": {},
   "outputs": [],
   "source": [
    "solve(example, vector_ex, precond_ex, tol = 1e-2)"
   ]
  },
  {
   "cell_type": "markdown",
   "id": "db97174e",
   "metadata": {},
   "source": [
    "## Strang's circulant preconditioner for solving Toeplitz systems\n",
    "This is a simple test employing Strang's circulant preconditioned obtained from the previously mentioned article. While there was an enhancement in execution time, it's noteworthy that the preconditioner, though effective, is not optimal and fails to improve the condition number for any Toeplitz matrix, unlike Chang's. Consequently, Chang's preconditioner appears to be notably more advantageous."
   ]
  },
  {
   "cell_type": "code",
   "execution_count": null,
   "id": "e88ce6f5",
   "metadata": {},
   "outputs": [],
   "source": [
    "def circulant_preconditioner_strang(toeplitz):\n",
    "    np.array(toeplitz, dtype=float)\n",
    "    col = toeplitz[:, 0]\n",
    "    row = toeplitz[0, :]\n",
    "    n = toeplitz.shape[0]\n",
    "    m = np.floor(n/2).astype(int)\n",
    "    \n",
    "    i = np.arange(n)\n",
    "    c = np.concatenate((col[0:m+1], row[n-m-1:0:-1]))\n",
    "    \n",
    "    circulant_matrix = circulant(c)\n",
    "    circulant_matrix = np.array(circulant_matrix, dtype=float)\n",
    "    return circulant_matrix"
   ]
  },
  {
   "cell_type": "code",
   "execution_count": 94,
   "id": "0e0cdbc3-f156-432f-9188-47889f5af77c",
   "metadata": {
    "tags": []
   },
   "outputs": [
    {
     "name": "stdout",
     "output_type": "stream",
     "text": [
      "Matrix: [[1 5 0 0]\n",
      " [2 1 5 0]\n",
      " [0 2 1 5]\n",
      " [0 0 2 1]]\n",
      "Condition number: 6.408952530039636\n"
     ]
    }
   ],
   "source": [
    "col = [1,2,0,0]\n",
    "row = [1,5,0,0]\n",
    "matrix = toeplitz(col,row)\n",
    "\n",
    "    \n",
    "print(f\"Matrix: {matrix}\")\n",
    "print(f\"Condition number: {condition_number(matrix)}\")"
   ]
  },
  {
   "cell_type": "code",
   "execution_count": null,
   "id": "c3bb9541",
   "metadata": {},
   "outputs": [
    {
     "name": "stdout",
     "output_type": "stream",
     "text": [
      "Preconditioned matrix: [[-1.14583333e-01  5.55111512e-17 -5.55111512e-17 -7.91666667e-02]\n",
      " [ 3.02083333e-01  1.00000000e+00  0.00000000e+00 -4.45833333e-01]\n",
      " [ 3.85416667e-01 -9.71445147e-17  1.00000000e+00  1.20833333e-01]\n",
      " [-1.97916667e-01 -5.55111512e-17 -1.38777878e-17  1.15416667e+00]]\n",
      "Condition number with precond: 9.197643874566463\n"
     ]
    }
   ],
   "source": [
    "circulant_matrix = circulant_preconditioner_strang(matrix)\n",
    "precond_matrix = np.dot(np.linalg.inv(circulant_matrix), matrix)\n",
    "print(f\"Preconditioned matrix: {precond_matrix}\")\n",
    "print(f\"Condition number with precond: {condition_number(precond_matrix)}\")"
   ]
  },
  {
   "cell_type": "code",
   "execution_count": null,
   "id": "2b33b7a8",
   "metadata": {},
   "outputs": [
    {
     "name": "stdout",
     "output_type": "stream",
     "text": [
      "[0.125 0.125 0.125 0.125]\n"
     ]
    }
   ],
   "source": [
    "vector = [1]*4\n",
    "precond_vector = np.dot(np.linalg.inv(circulant_matrix), vector)\n",
    "print(precond_vector)"
   ]
  },
  {
   "cell_type": "code",
   "execution_count": null,
   "id": "678c6b9e",
   "metadata": {},
   "outputs": [
    {
     "name": "stdout",
     "output_type": "stream",
     "text": [
      "Condition number of extended matrix: 14.359720869846758\n",
      "Condition number of extended precond matrix: 12.061167467025179\n"
     ]
    }
   ],
   "source": [
    "m1, v1 = set_system(matrix, vector)\n",
    "m2, v2 = set_system(precond_matrix, precond_vector)\n",
    "print(f\"Condition number of extended matrix: {condition_number(m1)}\")\n",
    "print(f\"Condition number of extended precond matrix: {condition_number(m2)}\")"
   ]
  },
  {
   "cell_type": "code",
   "execution_count": null,
   "id": "c0213995",
   "metadata": {},
   "outputs": [
    {
     "name": "stdout",
     "output_type": "stream",
     "text": [
      "\n",
      "Non preconditioned system:\n",
      "Warning: System had to be extended to N = 8. Input matrix is not hermitian and/or not of size 2^n. Condition number of extended matrix is actually 14.359720869846758\n",
      "\n",
      "Condition Number: 6.408952530039636\n",
      "HHL Result: [-1.04784262  0.39421996  0.52155696 -0.08165526]\n",
      "Classical Result: [-1.04225352  0.4084507   0.53521127 -0.07042254]\n",
      "Error: 0.01880802265861577\n",
      "CPU Time: 21.984531668\n",
      "Wall Time: 19.0487539768219\n",
      "\n",
      "Preconditioned system:\n",
      "Warning: System had to be extended to N = 8. Input matrix is not hermitian and/or not of size 2^n. Condition number of extended matrix is actually 12.061167467025179\n",
      "\n",
      "Condition Number: 9.197643874566463\n",
      "HHL Result: [-1.04309798  0.4067096   0.53363124 -0.07168134]\n",
      "Classical Result: [-1.04225352  0.4084507   0.53521127 -0.07042254]\n",
      "Error: 0.002250923191235293\n",
      "CPU Time: 20.859336497999998\n",
      "Wall Time: 17.735612869262695\n"
     ]
    }
   ],
   "source": [
    "solve(matrix,vector,circulant_matrix)"
   ]
  }
 ],
 "metadata": {
  "kernelspec": {
   "display_name": "Python 3 (ipykernel)",
   "language": "python",
   "name": "python3"
  },
  "language_info": {
   "codemirror_mode": {
    "name": "ipython",
    "version": 3
   },
   "file_extension": ".py",
   "mimetype": "text/x-python",
   "name": "python",
   "nbconvert_exporter": "python",
   "pygments_lexer": "ipython3",
   "version": "3.11.3"
  },
  "widgets": {
   "application/vnd.jupyter.widget-state+json": {
    "state": {},
    "version_major": 2,
    "version_minor": 0
   }
  }
 },
 "nbformat": 4,
 "nbformat_minor": 5
}
